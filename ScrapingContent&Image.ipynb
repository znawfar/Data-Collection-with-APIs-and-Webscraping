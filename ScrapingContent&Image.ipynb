{
  "nbformat": 4,
  "nbformat_minor": 0,
  "metadata": {
    "colab": {
      "provenance": []
    },
    "kernelspec": {
      "name": "python3",
      "display_name": "Python 3"
    },
    "language_info": {
      "name": "python"
    }
  },
  "cells": [
    {
      "cell_type": "markdown",
      "source": [
        "# **Scraping the Contents of a Web Page & Images Tages**"
      ],
      "metadata": {
        "id": "7-I3X1TBV988"
      }
    },
    {
      "cell_type": "markdown",
      "source": [
        ">    **In this notebook I will:**\n",
        "- Scrape the **Contents** Of a Web Page\n",
        "- Scrape all **Images Tags**\n",
        "\n"
      ],
      "metadata": {
        "id": "4gPsnatmDqQx"
      }
    },
    {
      "cell_type": "markdown",
      "source": [
        ">I am going to use Python and several Python libraries."
      ],
      "metadata": {
        "id": "zzblzjdBX1Fg"
      }
    },
    {
      "cell_type": "code",
      "execution_count": null,
      "metadata": {
        "id": "_oJALglN6_6z"
      },
      "outputs": [],
      "source": [
        "!pip install -q -U watermark"
      ]
    },
    {
      "cell_type": "code",
      "source": [
        "!pip install lxml==4.6.4"
      ],
      "metadata": {
        "colab": {
          "base_uri": "https://localhost:8080/"
        },
        "id": "yaGae2C87JQj",
        "outputId": "65c56c2c-9e47-4fb9-e428-5c91fc5bccd3"
      },
      "execution_count": null,
      "outputs": [
        {
          "output_type": "stream",
          "name": "stdout",
          "text": [
            "Looking in indexes: https://pypi.org/simple, https://us-python.pkg.dev/colab-wheels/public/simple/\n",
            "Requirement already satisfied: lxml==4.6.4 in /usr/local/lib/python3.8/dist-packages (4.6.4)\n"
          ]
        }
      ]
    },
    {
      "cell_type": "code",
      "source": [
        "#Web scrapping\n",
        "from bs4 import BeautifulSoup \n",
        "#Download a web page\n",
        "import requests \n",
        "import pandas as pd"
      ],
      "metadata": {
        "id": "WFUI9IR1DVm9"
      },
      "execution_count": null,
      "outputs": []
    },
    {
      "cell_type": "markdown",
      "source": [
        ">I will download the contents of the web page:\n",
        "<a> http://www.oracle.com </a>\n"
      ],
      "metadata": {
        "id": "j0f_ZDuHYQny"
      }
    },
    {
      "cell_type": "code",
      "source": [
        "#Download the contents of the web page:\n",
        "url = \"http://www.oracle.com\""
      ],
      "metadata": {
        "id": "iw2F_QN4D0h2"
      },
      "execution_count": null,
      "outputs": []
    },
    {
      "cell_type": "markdown",
      "source": [
        ">Now I am going to use ***get*** to download **the contents** of **the webpage** in text format and store in a variable called data:"
      ],
      "metadata": {
        "id": "H3uzkr6EEaTT"
      }
    },
    {
      "cell_type": "code",
      "source": [
        "data  = requests.get(url).text "
      ],
      "metadata": {
        "id": "4Wtf81jKEVB8"
      },
      "execution_count": null,
      "outputs": []
    },
    {
      "cell_type": "markdown",
      "source": [
        ">I must create a **BeautifulSoup object** using the **BeautifulSoup** constructor:"
      ],
      "metadata": {
        "id": "CiKPw2hjEq86"
      }
    },
    {
      "cell_type": "code",
      "source": [
        "#create a soup object using the variable 'data'\n",
        "soup = BeautifulSoup(data,\"html.parser\")"
      ],
      "metadata": {
        "id": "c7Mr_ojqE1Gl"
      },
      "execution_count": null,
      "outputs": []
    },
    {
      "cell_type": "markdown",
      "source": [
        "# **Well Done!**\n",
        ">In this step, I need to **scrape** all links:"
      ],
      "metadata": {
        "id": "wFV67LsBFCrH"
      }
    },
    {
      "cell_type": "code",
      "source": [
        "#In html anchor/link is represented by the tag <a>\n",
        "for link in soup.find_all('a',href=True):  \n",
        "\n",
        "    print(link.get('href'))"
      ],
      "metadata": {
        "colab": {
          "base_uri": "https://localhost:8080/"
        },
        "id": "Ssy05GMXFUhT",
        "outputId": "d3993ed7-c8d2-45eb-cd60-3ac1f76fef00"
      },
      "execution_count": null,
      "outputs": [
        {
          "output_type": "stream",
          "name": "stdout",
          "text": [
            "https://www.oracle.com/corporate/accessibility/\n",
            "#maincontent\n",
            "https://www.oracle.com/\n",
            "https://accelerationeconomy.com/cloud-wars/cloud-wars-ceo-of-the-year-is-safra-catz-of-oracle/\n",
            "https://www.oracle.com/customers/earnings/?intcmp=OHP1212\n",
            "/news/announcement/oracle-opens-cloud-region-in-chicago-2022-12-15/\n",
            "https://go.oracle.com/Chicago-Cloud-Region\n",
            "/news/announcement/tata-motors-drives-sales-excellence-with-oracle-cloud-infrastructure-2022-12-19/\n",
            "https://www.oracle.com/cloud/free/?intcmp=ohp052322ocift\n",
            "/cloudworld/\n",
            "https://blogs.oracle.com/connect/post/oracle-applications-platform-empowers-developers-to-extend-fusion-applications\n",
            "https://blogs.oracle.com/connect/post/oracle-applications-platform-empowers-developers-to-extend-fusion-applications\n",
            "https://blogs.oracle.com/connect/post/mysql-heatwave-lakehouse-brings-transactional-and-semistructured-data-into-one-high-speed-query-engine\n",
            "https://blogs.oracle.com/connect/post/mysql-heatwave-lakehouse-brings-transactional-and-semistructured-data-into-one-high-speed-query-engine\n",
            "https://blogs.oracle.com/cloud-infrastructure/post/oci-visionary-2022-gartner-magic-quadrant\n",
            "https://blogs.oracle.com/cloud-infrastructure/post/oci-visionary-2022-gartner-magic-quadrant\n",
            "https://www.oracle.com/applications/\n",
            "https://www.oracle.com/applications/\n",
            "#erp\n",
            "https://www.oracle.com/erp/financials/\n",
            "https://www.oracle.com/erp/project-portfolio-management-cloud/\n",
            "https://www.oracle.com/erp/procurement/\n",
            "https://www.oracle.com/erp/risk-management/\n",
            "https://www.oracle.com/performance-management/\n",
            "https://www.oracle.com/scm/\n",
            "https://www.oracle.com/business-analytics/fusion-erp-analytics/\n",
            "#scm\n",
            "https://www.oracle.com/scm/supply-chain-planning/\n",
            "https://www.oracle.com/scm/inventory-management/\n",
            "https://www.oracle.com/scm/manufacturing/\n",
            "https://www.oracle.com/scm/maintenance/\n",
            "https://www.oracle.com/scm/order-management/\n",
            "https://www.oracle.com/scm/logistics/\n",
            "https://www.oracle.com/scm/product-lifecycle-management/\n",
            "https://www.oracle.com/erp/procurement/\n",
            "https://www.oracle.com/blockchain/\n",
            "https://www.oracle.com/internet-of-things/\n",
            "https://www.oracle.com/scm/track-and-trace/\n",
            "#hcm\n",
            "https://www.oracle.com/human-capital-management/hr/\n",
            "https://www.oracle.com/human-capital-management/talent-management/\n",
            "https://www.oracle.com/human-capital-management/talent-management/learning/\n",
            "https://www.oracle.com/human-capital-management/recruiting/\n",
            "https://www.oracle.com/human-capital-management/workforce-management/\n",
            "https://www.oracle.com/human-capital-management/payroll/\n",
            "https://www.oracle.com/business-analytics/fusion-hcm-analytics/\n",
            "#cx\n",
            "https://www.oracle.com/cx/advertising/\n",
            "https://www.oracle.com/cx/marketing/\n",
            "https://www.oracle.com/cx/sales/\n",
            "https://www.oracle.com/cx/ecommerce/\n",
            "https://www.oracle.com/cx/service/\n",
            "https://www.oracle.com/cx/platform/\n",
            "#industry-apps\n",
            "https://www.oracle.com/industries/automotive/\n",
            "https://www.oracle.com/industries/communications/\n",
            "https://www.oracle.com/industries/construction-engineering/\n",
            "https://www.oracle.com/industries/consumer-goods/\n",
            "https://www.oracle.com/industries/utilities/\n",
            "https://www.oracle.com/industries/financial-services/\n",
            "https://www.oracle.com/industries/food-beverage/\n",
            "https://www.oracle.com/industries/government/\n",
            "https://www.oracle.com/industries/healthcare/\n",
            "https://www.oracle.com/industries/high-tech/\n",
            "https://www.oracle.com/industries/hospitality/\n",
            "https://www.oracle.com/industries/industrial-manufacturing/\n",
            "https://www.oracle.com/industries/life-sciences/\n",
            "https://www.oracle.com/industries/media-entertainment/\n",
            "https://www.oracle.com/industries/oil-gas/\n",
            "https://www.oracle.com/industries/professional-services/\n",
            "https://www.oracle.com/industries/retail/\n",
            "https://www.oracle.com/industries/travel-transportation/\n",
            "#isv-custom-apps\n",
            "https://www.oracle.com/partnernetwork/isv/\n",
            "https://www.oracle.com/cloud/migrate-isv-applications-to-oracle-cloud/\n",
            "https://www.oracle.com/partnernetwork/program/incentives-initiatives/isv-accelerate/\n",
            "https://www.oracle.com/partner/\n",
            "https://www.oracle.com/cloud/migrate-custom-applications-to-cloud/\n",
            "https://www.oracle.com/cloud/cloud-lift/\n",
            "https://www.oracle.com/application-development/\n",
            "https://developer.oracle.com\n",
            "https://www.oracle.com/cloud/\n",
            "https://www.oracle.com/cloud/\n",
            "#developer-services\n",
            "https://www.oracle.com/cloud/cloud-native/api-management/\n",
            "https://www.oracle.com/cloud/cloud-native/api-management/\n",
            "https://www.oracle.com/blockchain/cloud-platform/\n",
            "https://www.oracle.com/devops/\n",
            "https://www.oracle.com/cloud/cloud-native/\n",
            "https://www.oracle.com/cloud/queue/\n",
            "https://www.oracle.com/cloud/cloud-native/streaming/\n",
            "https://www.oracle.com/cloud/workflow/\n",
            "https://www.oracle.com/java/\n",
            "https://www.oracle.com/devops/notifications/\n",
            "https://www.oracle.com/devops/resource-manager/\n",
            "https://www.oracle.com/application-development/visual-builder/\n",
            "https://www.oracle.com/application-development/apex/\n",
            "https://www.oracle.com/integration/application-integration/\n",
            "https://www.oracle.com/content-management/\n",
            "https://www.oracle.com/chatbots/\n",
            "#integration\n",
            "https://www.oracle.com/integration/\n",
            "https://www.oracle.com/integration/application-integration/\n",
            "https://www.oracle.com/integration/soa/\n",
            "https://www.oracle.com/integration/data-integration/\n",
            "https://www.oracle.com/integration/goldengate/\n",
            "https://www.oracle.com/integration/data-integrator-enterprise-edition/\n",
            "https://www.oracle.com/integration/process-automation/\n",
            "https://www.oracle.com/cloud/cloud-native/api-management/\n",
            "https://www.oracle.com/cloud/events-service/\n",
            "https://www.oracle.com/cloud/cloud-native/functions/\n",
            "https://www.oracle.com/cloud/queue/\n",
            "https://www.oracle.com/cloud/cloud-native/streaming/\n",
            "#analytics-bi\n",
            "https://www.oracle.com/business-analytics/\n",
            "https://www.oracle.com/business-analytics/analytics-platform/\n",
            "https://www.oracle.com/business-analytics/fusion-cx-analytics/\n",
            "https://www.oracle.com/business-analytics/fusion-erp-analytics/\n",
            "https://www.oracle.com/business-analytics/fusion-hcm-analytics/\n",
            "https://www.oracle.com/business-analytics/analytics-mobile/\n",
            "#machine-learning-ai\n",
            "https://www.oracle.com/artificial-intelligence/\n",
            "https://www.oracle.com/artificial-intelligence/\n",
            "https://www.oracle.com/artificial-intelligence/anomaly-detection/\n",
            "https://www.oracle.com/artificial-intelligence/data-science\n",
            "https://www.oracle.com/chatbots/\n",
            "https://www.oracle.com/artificial-intelligence/database-machine-learning/\n",
            "https://www.oracle.com/artificial-intelligence/language/\n",
            "https://www.oracle.com/cloud/media-flow/\n",
            "https://www.oracle.com/cloud/media-streams/\n",
            "https://www.oracle.com/artificial-intelligence/speech/\n",
            "https://www.oracle.com/artificial-intelligence/vision/\n",
            "#data-lake\n",
            "https://www.oracle.com/data-lake/\n",
            "https://www.oracle.com/big-data/big-data-service/\n",
            "https://www.oracle.com/big-data/data-catalog/\n",
            "https://www.oracle.com/big-data/data-flow/\n",
            "https://www.oracle.com/integration/data-integration/\n",
            "https://www.oracle.com/integration/goldengate/\n",
            "https://www.oracle.com/cloud/cloud-native/streaming/\n",
            "#compute\n",
            "https://www.oracle.com/cloud/compute/\n",
            "https://www.oracle.com/cloud/compute/arm/\n",
            "https://www.oracle.com/cloud/compute/bare-metal/\n",
            "https://www.oracle.com/cloud/compute/gpu/\n",
            "https://www.oracle.com/cloud/hpc/\n",
            "https://www.oracle.com/cloud/compute/virtual-machines/\n",
            "https://www.oracle.com/cloud/compute/vmware/\n",
            "#storage\n",
            "https://www.oracle.com/cloud/storage/\n",
            "https://www.oracle.com/cloud/storage/archive-storage/\n",
            "https://www.oracle.com/cloud/storage/block-volumes/\n",
            "https://www.oracle.com/cloud/storage/data-transfer/\n",
            "https://www.oracle.com/cloud/storage/file-storage/\n",
            "https://www.oracle.com/cloud/storage/object-storage/\n",
            "https://www.oracle.com/cloud/storage/storage-gateway/\n",
            "#containers-and-functions\n",
            "https://www.oracle.com/cloud/cloud-native/\n",
            "https://www.oracle.com/cloud/cloud-native/functions/\n",
            "https://www.oracle.com/cloud/cloud-native/container-engine-kubernetes/\n",
            "https://www.oracle.com/cloud/cloud-native/container-instances/\n",
            "https://www.oracle.com/cloud/cloud-native/container-registry/\n",
            "https://www.oracle.com/cloud/cloud-native/service-mesh/\n",
            "#networking\n",
            "https://www.oracle.com/cloud/networking/\n",
            "https://docs.oracle.com/en-us/iaas/Content/Network/Tasks/configuringCPE.htm\n",
            "https://www.oracle.com/cloud/networking/dns/\n",
            "https://www.oracle.com/cloud/networking/fastconnect/\n",
            "https://www.oracle.com/cloud/networking/load-balancing/\n",
            "https://www.oracle.com/cloud/networking/service-gateway/\n",
            "https://www.oracle.com/cloud/networking/site-to-site-vpn/\n",
            "https://www.oracle.com/cloud/networking/virtual-cloud-network/\n",
            "#oracle-databases\n",
            "https://www.oracle.com/database/\n",
            "https://www.oracle.com/autonomous-database/\n",
            "https://www.oracle.com/autonomous-database/autonomous-database-on-exadata-cloud-at-customer/\n",
            "https://www.oracle.com/integration/data-integrator-enterprise-edition/\n",
            "https://www.oracle.com/security/database-security/data-safe/\n",
            "https://www.oracle.com/manageability/database-management/\n",
            "https://www.oracle.com/cloud/migrate-data-and-databases-to-oci/\n",
            "https://www.oracle.com/cloud/azure/oracle-database-for-azure/\n",
            "https://www.oracle.com/database/enterprise/\n",
            "https://www.oracle.com/engineered-systems/exadata/cloud-at-customer/\n",
            "https://www.oracle.com/engineered-systems/exadata/database-service/\n",
            "https://www.oracle.com/integration/goldengate/\n",
            "https://www.oracle.com/database/nosql/\n",
            "https://www.oracle.com/manageability/operations-insights/\n",
            "https://www.oracle.com/database/standard/\n",
            "https://www.oracle.com/database/zero-data-loss-autonomous-recovery-service/\n",
            "#open-source-databases\n",
            "https://www.oracle.com/mysql/\n",
            "https://www.oracle.com/cloud/search/\n",
            "https://www.oracle.com/cloud/compute/vmware/\n",
            "#security-observability-management-compliance\n",
            "https://www.oracle.com/security/cloud-security/access-governance/\n",
            "https://www.oracle.com/linux/autonomous-linux/\n",
            "https://www.oracle.com/security/cloud-security/bastion/\n",
            "https://www.oracle.com/security/cloud-security/ssl-tls-certificates/\n",
            "https://www.oracle.com/security/cloud-security/cloud-guard/\n",
            "https://www.oracle.com/security\n",
            "https://www.oracle.com/security/cloud-security/hardware-root-of-trust/\n",
            "https://www.oracle.com/security/cloud-security/identity-cloud/\n",
            "https://www.oracle.com/security/cloud-security/isolated-network-virtualization/\n",
            "https://www.oracle.com/security/cloud-security/key-management/\n",
            "https://www.oracle.com/security/cloud-security/network-firewall/\n",
            "https://www.oracle.com/security/cloud-security/security-zones/\n",
            "https://www.oracle.com/security/cloud-security/threat-intelligence-service/\n",
            "https://www.oracle.com/security/cloud-security/vulnerability-scanning-service/\n",
            "https://www.oracle.com/security/database-security/data-safe/\n",
            "https://www.oracle.com/a/ocom/docs/database/autonomous-database-self-securing-wp.pdf\n",
            "https://www.oracle.com/security/cloud-security/access-governance/\n",
            "https://www.oracle.com/security/cloud-security/casb-cloud/\n",
            "https://www.oracle.com/security/cloud-security/identity-cloud/\n",
            "https://www.oracle.com/security/cloud-security/web-application-firewall/\n",
            "https://www.oracle.com/manageability/application-performance-monitoring/\n",
            "https://www.oracle.com/manageability/database-management/\n",
            "https://www.oracle.com/cloud/full-stack-disaster-recovery/\n",
            "https://docs.oracle.com/en-us/iaas/jms/doc/getting-started-java-management-service.html\n",
            "https://www.oracle.com/devops/logging/\n",
            "https://www.oracle.com/manageability/logging-analytics/\n",
            "https://www.oracle.com/devops/monitoring/\n",
            "https://www.oracle.com/devops/notifications/\n",
            "https://www.oracle.com/manageability/operations-insights/\n",
            "https://docs.oracle.com/en-us/iaas/os-management/home.htm\n",
            "https://www.oracle.com/devops/resource-manager/\n",
            "https://www.oracle.com/devops/service-connector-hub/\n",
            "https://docs.oracle.com/en-us/iaas/Content/Billing/Concepts/budgetsoverview.htm#Budgets_Overview\n",
            "https://docs.oracle.com/en-us/iaas/Content/CloudAdvisor/Concepts/cloudadvisoroverview.htm\n",
            "https://docs.oracle.com/en-us/iaas/Content/Billing/Concepts/costanalysisoverview.htm#Cost_Analysis_Overview\n",
            "https://docs.oracle.com/en-us/iaas/Content/LicenseManager/Concepts/licensemanageroverview.htm\n",
            "https://docs.oracle.com/en-us/iaas/Content/General/Concepts/organization_management_overview.htm#organization_management_overview\n",
            "https://docs.oracle.com/en-us/iaas/Content/Quotas/Concepts/resourcequotas.htm#top\n",
            "https://docs.oracle.com/en-us/iaas/Content/Billing/Concepts/supportrewardsoverview.htm\n",
            "https://www.oracle.com/corporate/cloud-compliance/\n",
            "https://www.oracle.com/corporate/security-practices/\n",
            "https://www.oracle.com/security/cloud-security/\n",
            "#global-cloud-datacenter-infrastructure\n",
            "https://www.oracle.com/cloud/multicloud/\n",
            "https://www.oracle.com/cloud/azure/oracle-database-for-azure/\n",
            "https://www.oracle.com/mysql/\n",
            "https://www.oracle.com/cloud/azure/interconnect/\n",
            "https://www.oracle.com/cloud/cloud-regions/\n",
            "https://www.oracle.com/uk/industries/government/\n",
            "https://www.oracle.com/industries/government/federal/\n",
            "https://www.oracle.com/industries/government/govcloud/\n",
            "https://www.oracle.com/cloud/hybrid-cloud/\n",
            "https://www.oracle.com/engineered-systems/exadata/cloud-at-customer/\n",
            "https://www.oracle.com/autonomous-database/autonomous-database-on-exadata-cloud-at-customer/\n",
            "https://www.oracle.com/cloud/roving-edge-infrastructure/\n",
            "https://www.oracle.com/cloud/cloud-at-customer/dedicated-region/\n",
            "https://www.oracle.com/cloud/alloy/\n",
            "https://www.oracle.com/customers\n",
            "/customers/cox-automotive-revs-up/\n",
            "/customers/experian/\n",
            "/customers/fedex/\n",
            "/customers/hormel-foods/\n",
            "/customers/siemens-healthineers/\n",
            "/customers/xerox/\n",
            "https://www.oracle.com/industries/automotive/\n",
            "https://www.oracle.com/industries/communications/\n",
            "https://www.oracle.com/industries/construction-engineering/\n",
            "https://www.oracle.com/industries/consumer-goods/\n",
            "https://www.oracle.com/industries/utilities/\n",
            "https://www.oracle.com/industries/financial-services/\n",
            "https://www.oracle.com/industries/food-beverage/\n",
            "https://www.oracle.com/industries/government/\n",
            "https://www.oracle.com/industries/healthcare/\n",
            "https://www.oracle.com/industries/high-tech/\n",
            "https://www.oracle.com/industries/hospitality/\n",
            "https://www.oracle.com/industries/industrial-manufacturing/\n",
            "https://www.oracle.com/industries/life-sciences/\n",
            "https://www.oracle.com/industries/media-entertainment/\n",
            "https://www.oracle.com/industries/oil-gas/\n",
            "https://www.oracle.com/industries/professional-services/\n",
            "https://www.oracle.com/industries/government/state-local/public-safety/\n",
            "https://www.oracle.com/industries/retail/\n",
            "https://www.oracle.com/industries/travel-transportation/\n",
            "https://www.oracle.com/industries/wholesale-distribution/\n",
            "https://www.oracle.com/cloud/cloud-regions/\n"
          ]
        }
      ]
    },
    {
      "cell_type": "markdown",
      "source": [
        "> I will scrape all **Images Tags**. "
      ],
      "metadata": {
        "id": "ZvUcCVt8Fs_6"
      }
    },
    {
      "cell_type": "code",
      "source": [
        "#We know in html image is represented by the tag <img>.\n",
        "for link in soup.find_all('img'):\n",
        "    print(link)\n",
        "    print(link.get('src'))"
      ],
      "metadata": {
        "colab": {
          "base_uri": "https://localhost:8080/"
        },
        "id": "iwF_ioULFiSW",
        "outputId": "a80475f1-0968-493c-e87d-36914d25bb2c"
      },
      "execution_count": null,
      "outputs": [
        {
          "output_type": "stream",
          "name": "stdout",
          "text": [
            "<img alt=\"Oracle empowers developers\" class=\"\" data-src=\"https://www.oracle.com/node/oce/storyhub/prod/api/v1.1/assets/CONTE8726E93484F4EC5AE17E889CC49CE32/native/rh09-oap.jpg\"/>\n",
            "None\n",
            "<img alt=\"MySQL HeatWave Lakehouse\" class=\"\" data-src=\"https://www.oracle.com/node/oce/storyhub/prod/api/v1.1/assets/CONT320A1D2F511F4B92B3B5D298A38A56C1/native/rh09-mysql-heatwave.jpg\"/>\n",
            "None\n",
            "<img alt=\"OCI named a cloud Visionary\" class=\"\" data-src=\"https://www.oracle.com/node/oce/storyhub/prod/api/v1.1/assets/CONT2FC8E94C8EC246349AEBB113A015D049/native/rh09-oci-visionary.jpg\"/>\n",
            "None\n",
            "<img alt=\"Cox Automotive\" class=\"\" data-src=\"https://www.oracle.com/node/oce/storyhub/prod/api/v1.1/assets/CONTF4F815B0FE794CE288310483DB709636/native/customerlogo-cox-automotive-blk.svg\"/>\n",
            "None\n",
            "<img alt=\"Cox Automotive\" class=\"\" data-src=\"https://www.oracle.com/node/oce/storyhub/prod/api/v1.1/assets/CONTE73F388B5EEE4EA6BCF620A725C7C9E0/native/customerlogo-cox-auto-color.svg\"/>\n",
            "None\n",
            "<img alt=\"Experian\" class=\"\" data-src=\"https://www.oracle.com/node/oce/storyhub/prod/api/v1.1/assets/CONTBC764E8C9E774209A69E951B27F80D11/native/experian-logo-blk.svg\"/>\n",
            "None\n",
            "<img alt=\"Experian\" class=\"\" data-src=\"https://www.oracle.com/node/oce/storyhub/prod/api/v1.1/assets/CONTDBA1C9D777394056B615A5CFACFC3658/native/experian-logo-clr.svg\"/>\n",
            "None\n",
            "<img alt=\"FedEx\" class=\"\" data-src=\"https://www.oracle.com/node/oce/storyhub/prod/api/v1.1/assets/CONT4149EAED564F4AFFB962AEA5692BD707/native/customerlogo-fedex-v2-blk.svg\"/>\n",
            "None\n",
            "<img alt=\"FedEx\" class=\"\" data-src=\"https://www.oracle.com/node/oce/storyhub/prod/api/v1.1/assets/CONTA00B5E29ACDE48F5A5B995A0B4D6BFD6/native/customerlogo-fedex-v2-clr.svg\"/>\n",
            "None\n",
            "<img alt=\"Hormel Foods\" class=\"\" data-src=\"https://www.oracle.com/node/oce/storyhub/prod/api/v1.1/assets/CONT87DCD8B9CA874A83B98688BA45E0123B/native/customerlogo-hormel-blk.svg\"/>\n",
            "None\n",
            "<img alt=\"Hormel Foods\" class=\"\" data-src=\"https://www.oracle.com/node/oce/storyhub/prod/api/v1.1/assets/CONT0CC1287FA4B74895A413EF6862B9E86D/native/customerlogo-hormel-color.svg\"/>\n",
            "None\n",
            "<img alt=\"Siemens Healthineers\" class=\"\" data-src=\"https://www.oracle.com/node/oce/storyhub/prod/api/v1.1/assets/CONT5BA1C1BFD8D849EAB4CAD4FEC4B55AFE/native/customerlogo-siemens-healthineers-blk.svg\"/>\n",
            "None\n",
            "<img alt=\"Siemens Healthineers\" class=\"\" data-src=\"https://www.oracle.com/node/oce/storyhub/prod/api/v1.1/assets/CONT481588FC49FC4909B34C56ABDCF44E02/native/customerlogo-siemens-healthineers-rgb.svg\"/>\n",
            "None\n",
            "<img alt=\"Xerox\" class=\"\" data-src=\"https://www.oracle.com/node/oce/storyhub/prod/api/v1.1/assets/CONT5C5C6ADF8CA2440E871A3ED06D861B45/native/customerlogo-xerox-blk.svg\"/>\n",
            "None\n",
            "<img alt=\"Xerox\" class=\"\" data-src=\"https://www.oracle.com/node/oce/storyhub/prod/api/v1.1/assets/CONT4FE75E34A6D445B5B873B65DC0304532/native/customerlogo-xerox-clr.svg\"/>\n",
            "None\n",
            "<img alt=\"Oracle Cloud data center global distribution map, details below\" class=\"\" data-src=\"https://www.oracle.com/node/oce/storyhub/prod/api/v1.1/assets/CONT516131DF0CC840A380D731C8B26CA925/native/rc115-oci-map-v14.jpg\"/>\n",
            "None\n",
            "<img alt=\"Icon denoting current locations\" class=\"\" data-src=\"https://www.oracle.com/a/ocom/img/i/rc115-oci-legend-current.svg\"/>\n",
            "None\n",
            "<img alt=\"Icon denoting locations coming soon\" class=\"\" data-src=\"https://www.oracle.com/a/ocom/img/i/rc115-oci-legend-future.svg\"/>\n",
            "None\n",
            "<img alt=\"Icon denoting Azure Interconnect locations\" class=\"\" data-src=\"https://www.oracle.com/a/ocom/img/i/rc115-oci-legend-azure.svg\"/>\n",
            "None\n"
          ]
        }
      ]
    }
  ]
}