{
  "nbformat": 4,
  "nbformat_minor": 0,
  "metadata": {
    "colab": {
      "provenance": []
    },
    "kernelspec": {
      "name": "python3",
      "display_name": "Python 3"
    },
    "language_info": {
      "name": "python"
    }
  },
  "cells": [
    {
      "cell_type": "markdown",
      "source": [
        ">In this notebook, I am going to use **Random User**.\n",
        "\n",
        ">**RandomUser** is an open-source, free API providing developers with randomly generated users to be used as placeholders for testing purposes. The API can return multiple results, as well as specify generated user details such as gender, email, image, username, address, title, first and last name, and more. "
      ],
      "metadata": {
        "id": "dgarEaEI9FkE"
      }
    },
    {
      "cell_type": "code",
      "execution_count": 1,
      "metadata": {
        "colab": {
          "base_uri": "https://localhost:8080/"
        },
        "id": "YvewK53ha16Y",
        "outputId": "c5cda899-3455-4138-fcc0-6cfa573325b0"
      },
      "outputs": [
        {
          "output_type": "stream",
          "name": "stdout",
          "text": [
            "\u001b[?25l\r\u001b[K     |▏                               | 10 kB 23.0 MB/s eta 0:00:01\r\u001b[K     |▍                               | 20 kB 6.9 MB/s eta 0:00:01\r\u001b[K     |▋                               | 30 kB 9.9 MB/s eta 0:00:01\r\u001b[K     |▉                               | 40 kB 4.3 MB/s eta 0:00:01\r\u001b[K     |█                               | 51 kB 4.6 MB/s eta 0:00:01\r\u001b[K     |█▎                              | 61 kB 5.5 MB/s eta 0:00:01\r\u001b[K     |█▌                              | 71 kB 5.3 MB/s eta 0:00:01\r\u001b[K     |█▊                              | 81 kB 5.4 MB/s eta 0:00:01\r\u001b[K     |█▉                              | 92 kB 6.1 MB/s eta 0:00:01\r\u001b[K     |██                              | 102 kB 4.8 MB/s eta 0:00:01\r\u001b[K     |██▎                             | 112 kB 4.8 MB/s eta 0:00:01\r\u001b[K     |██▌                             | 122 kB 4.8 MB/s eta 0:00:01\r\u001b[K     |██▊                             | 133 kB 4.8 MB/s eta 0:00:01\r\u001b[K     |███                             | 143 kB 4.8 MB/s eta 0:00:01\r\u001b[K     |███▏                            | 153 kB 4.8 MB/s eta 0:00:01\r\u001b[K     |███▍                            | 163 kB 4.8 MB/s eta 0:00:01\r\u001b[K     |███▌                            | 174 kB 4.8 MB/s eta 0:00:01\r\u001b[K     |███▊                            | 184 kB 4.8 MB/s eta 0:00:01\r\u001b[K     |████                            | 194 kB 4.8 MB/s eta 0:00:01\r\u001b[K     |████▏                           | 204 kB 4.8 MB/s eta 0:00:01\r\u001b[K     |████▍                           | 215 kB 4.8 MB/s eta 0:00:01\r\u001b[K     |████▋                           | 225 kB 4.8 MB/s eta 0:00:01\r\u001b[K     |████▉                           | 235 kB 4.8 MB/s eta 0:00:01\r\u001b[K     |█████                           | 245 kB 4.8 MB/s eta 0:00:01\r\u001b[K     |█████▎                          | 256 kB 4.8 MB/s eta 0:00:01\r\u001b[K     |█████▍                          | 266 kB 4.8 MB/s eta 0:00:01\r\u001b[K     |█████▋                          | 276 kB 4.8 MB/s eta 0:00:01\r\u001b[K     |█████▉                          | 286 kB 4.8 MB/s eta 0:00:01\r\u001b[K     |██████                          | 296 kB 4.8 MB/s eta 0:00:01\r\u001b[K     |██████▎                         | 307 kB 4.8 MB/s eta 0:00:01\r\u001b[K     |██████▌                         | 317 kB 4.8 MB/s eta 0:00:01\r\u001b[K     |██████▊                         | 327 kB 4.8 MB/s eta 0:00:01\r\u001b[K     |███████                         | 337 kB 4.8 MB/s eta 0:00:01\r\u001b[K     |███████                         | 348 kB 4.8 MB/s eta 0:00:01\r\u001b[K     |███████▎                        | 358 kB 4.8 MB/s eta 0:00:01\r\u001b[K     |███████▌                        | 368 kB 4.8 MB/s eta 0:00:01\r\u001b[K     |███████▊                        | 378 kB 4.8 MB/s eta 0:00:01\r\u001b[K     |████████                        | 389 kB 4.8 MB/s eta 0:00:01\r\u001b[K     |████████▏                       | 399 kB 4.8 MB/s eta 0:00:01\r\u001b[K     |████████▍                       | 409 kB 4.8 MB/s eta 0:00:01\r\u001b[K     |████████▋                       | 419 kB 4.8 MB/s eta 0:00:01\r\u001b[K     |████████▊                       | 430 kB 4.8 MB/s eta 0:00:01\r\u001b[K     |█████████                       | 440 kB 4.8 MB/s eta 0:00:01\r\u001b[K     |█████████▏                      | 450 kB 4.8 MB/s eta 0:00:01\r\u001b[K     |█████████▍                      | 460 kB 4.8 MB/s eta 0:00:01\r\u001b[K     |█████████▋                      | 471 kB 4.8 MB/s eta 0:00:01\r\u001b[K     |█████████▉                      | 481 kB 4.8 MB/s eta 0:00:01\r\u001b[K     |██████████                      | 491 kB 4.8 MB/s eta 0:00:01\r\u001b[K     |██████████▎                     | 501 kB 4.8 MB/s eta 0:00:01\r\u001b[K     |██████████▌                     | 512 kB 4.8 MB/s eta 0:00:01\r\u001b[K     |██████████▋                     | 522 kB 4.8 MB/s eta 0:00:01\r\u001b[K     |██████████▉                     | 532 kB 4.8 MB/s eta 0:00:01\r\u001b[K     |███████████                     | 542 kB 4.8 MB/s eta 0:00:01\r\u001b[K     |███████████▎                    | 552 kB 4.8 MB/s eta 0:00:01\r\u001b[K     |███████████▌                    | 563 kB 4.8 MB/s eta 0:00:01\r\u001b[K     |███████████▊                    | 573 kB 4.8 MB/s eta 0:00:01\r\u001b[K     |████████████                    | 583 kB 4.8 MB/s eta 0:00:01\r\u001b[K     |████████████▏                   | 593 kB 4.8 MB/s eta 0:00:01\r\u001b[K     |████████████▎                   | 604 kB 4.8 MB/s eta 0:00:01\r\u001b[K     |████████████▌                   | 614 kB 4.8 MB/s eta 0:00:01\r\u001b[K     |████████████▊                   | 624 kB 4.8 MB/s eta 0:00:01\r\u001b[K     |█████████████                   | 634 kB 4.8 MB/s eta 0:00:01\r\u001b[K     |█████████████▏                  | 645 kB 4.8 MB/s eta 0:00:01\r\u001b[K     |█████████████▍                  | 655 kB 4.8 MB/s eta 0:00:01\r\u001b[K     |█████████████▋                  | 665 kB 4.8 MB/s eta 0:00:01\r\u001b[K     |█████████████▉                  | 675 kB 4.8 MB/s eta 0:00:01\r\u001b[K     |██████████████                  | 686 kB 4.8 MB/s eta 0:00:01\r\u001b[K     |██████████████▏                 | 696 kB 4.8 MB/s eta 0:00:01\r\u001b[K     |██████████████▍                 | 706 kB 4.8 MB/s eta 0:00:01\r\u001b[K     |██████████████▋                 | 716 kB 4.8 MB/s eta 0:00:01\r\u001b[K     |██████████████▉                 | 727 kB 4.8 MB/s eta 0:00:01\r\u001b[K     |███████████████                 | 737 kB 4.8 MB/s eta 0:00:01\r\u001b[K     |███████████████▎                | 747 kB 4.8 MB/s eta 0:00:01\r\u001b[K     |███████████████▌                | 757 kB 4.8 MB/s eta 0:00:01\r\u001b[K     |███████████████▊                | 768 kB 4.8 MB/s eta 0:00:01\r\u001b[K     |███████████████▉                | 778 kB 4.8 MB/s eta 0:00:01\r\u001b[K     |████████████████                | 788 kB 4.8 MB/s eta 0:00:01\r\u001b[K     |████████████████▎               | 798 kB 4.8 MB/s eta 0:00:01\r\u001b[K     |████████████████▌               | 808 kB 4.8 MB/s eta 0:00:01\r\u001b[K     |████████████████▊               | 819 kB 4.8 MB/s eta 0:00:01\r\u001b[K     |█████████████████               | 829 kB 4.8 MB/s eta 0:00:01\r\u001b[K     |█████████████████▏              | 839 kB 4.8 MB/s eta 0:00:01\r\u001b[K     |█████████████████▍              | 849 kB 4.8 MB/s eta 0:00:01\r\u001b[K     |█████████████████▌              | 860 kB 4.8 MB/s eta 0:00:01\r\u001b[K     |█████████████████▊              | 870 kB 4.8 MB/s eta 0:00:01\r\u001b[K     |██████████████████              | 880 kB 4.8 MB/s eta 0:00:01\r\u001b[K     |██████████████████▏             | 890 kB 4.8 MB/s eta 0:00:01\r\u001b[K     |██████████████████▍             | 901 kB 4.8 MB/s eta 0:00:01\r\u001b[K     |██████████████████▋             | 911 kB 4.8 MB/s eta 0:00:01\r\u001b[K     |██████████████████▉             | 921 kB 4.8 MB/s eta 0:00:01\r\u001b[K     |███████████████████             | 931 kB 4.8 MB/s eta 0:00:01\r\u001b[K     |███████████████████▎            | 942 kB 4.8 MB/s eta 0:00:01\r\u001b[K     |███████████████████▍            | 952 kB 4.8 MB/s eta 0:00:01\r\u001b[K     |███████████████████▋            | 962 kB 4.8 MB/s eta 0:00:01\r\u001b[K     |███████████████████▉            | 972 kB 4.8 MB/s eta 0:00:01\r\u001b[K     |████████████████████            | 983 kB 4.8 MB/s eta 0:00:01\r\u001b[K     |████████████████████▎           | 993 kB 4.8 MB/s eta 0:00:01\r\u001b[K     |████████████████████▌           | 1.0 MB 4.8 MB/s eta 0:00:01\r\u001b[K     |████████████████████▊           | 1.0 MB 4.8 MB/s eta 0:00:01\r\u001b[K     |█████████████████████           | 1.0 MB 4.8 MB/s eta 0:00:01\r\u001b[K     |█████████████████████           | 1.0 MB 4.8 MB/s eta 0:00:01\r\u001b[K     |█████████████████████▎          | 1.0 MB 4.8 MB/s eta 0:00:01\r\u001b[K     |█████████████████████▌          | 1.1 MB 4.8 MB/s eta 0:00:01\r\u001b[K     |█████████████████████▊          | 1.1 MB 4.8 MB/s eta 0:00:01\r\u001b[K     |██████████████████████          | 1.1 MB 4.8 MB/s eta 0:00:01\r\u001b[K     |██████████████████████▏         | 1.1 MB 4.8 MB/s eta 0:00:01\r\u001b[K     |██████████████████████▍         | 1.1 MB 4.8 MB/s eta 0:00:01\r\u001b[K     |██████████████████████▋         | 1.1 MB 4.8 MB/s eta 0:00:01\r\u001b[K     |██████████████████████▊         | 1.1 MB 4.8 MB/s eta 0:00:01\r\u001b[K     |███████████████████████         | 1.1 MB 4.8 MB/s eta 0:00:01\r\u001b[K     |███████████████████████▏        | 1.1 MB 4.8 MB/s eta 0:00:01\r\u001b[K     |███████████████████████▍        | 1.1 MB 4.8 MB/s eta 0:00:01\r\u001b[K     |███████████████████████▋        | 1.2 MB 4.8 MB/s eta 0:00:01\r\u001b[K     |███████████████████████▉        | 1.2 MB 4.8 MB/s eta 0:00:01\r\u001b[K     |████████████████████████        | 1.2 MB 4.8 MB/s eta 0:00:01\r\u001b[K     |████████████████████████▎       | 1.2 MB 4.8 MB/s eta 0:00:01\r\u001b[K     |████████████████████████▌       | 1.2 MB 4.8 MB/s eta 0:00:01\r\u001b[K     |████████████████████████▋       | 1.2 MB 4.8 MB/s eta 0:00:01\r\u001b[K     |████████████████████████▉       | 1.2 MB 4.8 MB/s eta 0:00:01\r\u001b[K     |█████████████████████████       | 1.2 MB 4.8 MB/s eta 0:00:01\r\u001b[K     |█████████████████████████▎      | 1.2 MB 4.8 MB/s eta 0:00:01\r\u001b[K     |█████████████████████████▌      | 1.2 MB 4.8 MB/s eta 0:00:01\r\u001b[K     |█████████████████████████▊      | 1.3 MB 4.8 MB/s eta 0:00:01\r\u001b[K     |██████████████████████████      | 1.3 MB 4.8 MB/s eta 0:00:01\r\u001b[K     |██████████████████████████▏     | 1.3 MB 4.8 MB/s eta 0:00:01\r\u001b[K     |██████████████████████████▎     | 1.3 MB 4.8 MB/s eta 0:00:01\r\u001b[K     |██████████████████████████▌     | 1.3 MB 4.8 MB/s eta 0:00:01\r\u001b[K     |██████████████████████████▊     | 1.3 MB 4.8 MB/s eta 0:00:01\r\u001b[K     |███████████████████████████     | 1.3 MB 4.8 MB/s eta 0:00:01\r\u001b[K     |███████████████████████████▏    | 1.3 MB 4.8 MB/s eta 0:00:01\r\u001b[K     |███████████████████████████▍    | 1.3 MB 4.8 MB/s eta 0:00:01\r\u001b[K     |███████████████████████████▋    | 1.4 MB 4.8 MB/s eta 0:00:01\r\u001b[K     |███████████████████████████▉    | 1.4 MB 4.8 MB/s eta 0:00:01\r\u001b[K     |████████████████████████████    | 1.4 MB 4.8 MB/s eta 0:00:01\r\u001b[K     |████████████████████████████▏   | 1.4 MB 4.8 MB/s eta 0:00:01\r\u001b[K     |████████████████████████████▍   | 1.4 MB 4.8 MB/s eta 0:00:01\r\u001b[K     |████████████████████████████▋   | 1.4 MB 4.8 MB/s eta 0:00:01\r\u001b[K     |████████████████████████████▉   | 1.4 MB 4.8 MB/s eta 0:00:01\r\u001b[K     |█████████████████████████████   | 1.4 MB 4.8 MB/s eta 0:00:01\r\u001b[K     |█████████████████████████████▎  | 1.4 MB 4.8 MB/s eta 0:00:01\r\u001b[K     |█████████████████████████████▌  | 1.4 MB 4.8 MB/s eta 0:00:01\r\u001b[K     |█████████████████████████████▊  | 1.5 MB 4.8 MB/s eta 0:00:01\r\u001b[K     |█████████████████████████████▉  | 1.5 MB 4.8 MB/s eta 0:00:01\r\u001b[K     |██████████████████████████████  | 1.5 MB 4.8 MB/s eta 0:00:01\r\u001b[K     |██████████████████████████████▎ | 1.5 MB 4.8 MB/s eta 0:00:01\r\u001b[K     |██████████████████████████████▌ | 1.5 MB 4.8 MB/s eta 0:00:01\r\u001b[K     |██████████████████████████████▊ | 1.5 MB 4.8 MB/s eta 0:00:01\r\u001b[K     |███████████████████████████████ | 1.5 MB 4.8 MB/s eta 0:00:01\r\u001b[K     |███████████████████████████████▏| 1.5 MB 4.8 MB/s eta 0:00:01\r\u001b[K     |███████████████████████████████▍| 1.5 MB 4.8 MB/s eta 0:00:01\r\u001b[K     |███████████████████████████████▌| 1.5 MB 4.8 MB/s eta 0:00:01\r\u001b[K     |███████████████████████████████▊| 1.6 MB 4.8 MB/s eta 0:00:01\r\u001b[K     |████████████████████████████████| 1.6 MB 4.8 MB/s eta 0:00:01\r\u001b[K     |████████████████████████████████| 1.6 MB 4.8 MB/s \n",
            "\u001b[?25h"
          ]
        }
      ],
      "source": [
        "!pip install -q -U watermark"
      ]
    },
    {
      "cell_type": "code",
      "source": [
        "#I need to install the randomuser library running the pip install command to start using the API \n",
        "!pip install randomuser"
      ],
      "metadata": {
        "colab": {
          "base_uri": "https://localhost:8080/"
        },
        "id": "pqsd_XeWou_t",
        "outputId": "c6ebf0e7-b196-4ca4-ccf3-9eae5b334c18"
      },
      "execution_count": 1,
      "outputs": [
        {
          "output_type": "stream",
          "name": "stdout",
          "text": [
            "Looking in indexes: https://pypi.org/simple, https://us-python.pkg.dev/colab-wheels/public/simple/\n",
            "Collecting randomuser\n",
            "  Downloading randomuser-1.6.tar.gz (5.0 kB)\n",
            "Building wheels for collected packages: randomuser\n",
            "  Building wheel for randomuser (setup.py) ... \u001b[?25l\u001b[?25hdone\n",
            "  Created wheel for randomuser: filename=randomuser-1.6-py3-none-any.whl size=5083 sha256=0a19db7c7c4eea7d2d49cf26ba01927e5e290315c42a95fbc347fab347e2715b\n",
            "  Stored in directory: /root/.cache/pip/wheels/17/a5/f9/554200008d8fc0d9ad077722bf27cde01be06cebedadc24600\n",
            "Successfully built randomuser\n",
            "Installing collected packages: randomuser\n",
            "Successfully installed randomuser-1.6\n"
          ]
        }
      ]
    },
    {
      "cell_type": "code",
      "source": [
        "from randomuser import RandomUser\n",
        "import pandas as pd"
      ],
      "metadata": {
        "id": "EC4GoTHmpFop"
      },
      "execution_count": 2,
      "outputs": []
    },
    {
      "cell_type": "code",
      "source": [
        "#Create a random user object, r.\n",
        "r = RandomUser()"
      ],
      "metadata": {
        "id": "c4sNOjeAphP8"
      },
      "execution_count": 7,
      "outputs": []
    },
    {
      "cell_type": "code",
      "source": [
        "#Then, using generate_users() function, we get a list of random 15 users.\n",
        "some_list = r.generate_users(15)"
      ],
      "metadata": {
        "id": "lVNvmKW7ptOV"
      },
      "execution_count": 4,
      "outputs": []
    },
    {
      "cell_type": "code",
      "source": [
        "some_list"
      ],
      "metadata": {
        "colab": {
          "base_uri": "https://localhost:8080/"
        },
        "id": "YquDbMTipw44",
        "outputId": "e8c07af0-78a6-4a6e-e7c1-f0b3b3c19fff"
      },
      "execution_count": 5,
      "outputs": [
        {
          "output_type": "execute_result",
          "data": {
            "text/plain": [
              "[<randomuser.RandomUser at 0x7fbc26653b20>,\n",
              " <randomuser.RandomUser at 0x7fbc1ae86c40>,\n",
              " <randomuser.RandomUser at 0x7fbc1ae24fd0>,\n",
              " <randomuser.RandomUser at 0x7fbc398d2880>,\n",
              " <randomuser.RandomUser at 0x7fbc398d29a0>,\n",
              " <randomuser.RandomUser at 0x7fbc2234f280>,\n",
              " <randomuser.RandomUser at 0x7fbc2234f4f0>,\n",
              " <randomuser.RandomUser at 0x7fbc2234f130>,\n",
              " <randomuser.RandomUser at 0x7fbc2234fbb0>,\n",
              " <randomuser.RandomUser at 0x7fbc1a9ad130>,\n",
              " <randomuser.RandomUser at 0x7fbc1a9ad040>,\n",
              " <randomuser.RandomUser at 0x7fbc1a9ad070>,\n",
              " <randomuser.RandomUser at 0x7fbc1a9ad0a0>,\n",
              " <randomuser.RandomUser at 0x7fbc1a9ad0d0>,\n",
              " <randomuser.RandomUser at 0x7fbc1a9ad160>]"
            ]
          },
          "metadata": {},
          "execution_count": 5
        }
      ]
    },
    {
      "cell_type": "markdown",
      "source": [
        ">I need 15 users with First Names, Full Names, ID, State and their email addresses. I must write a ***\"for-loop\"*** to print these 15 users."
      ],
      "metadata": {
        "id": "PUMqggcYr5UV"
      }
    },
    {
      "cell_type": "code",
      "source": [
        "for user in some_list:\n",
        "    print (user.get_id_number(),\" \", user.get_first_name(), \" \", user.get_last_name(), \" \", user.get_gender(), \" \", user.get_city(), \" \", user.get_state(), \" \", user.get_email(), \" \", user.get_picture())"
      ],
      "metadata": {
        "colab": {
          "base_uri": "https://localhost:8080/"
        },
        "id": "YB3ado73sYcM",
        "outputId": "c61a6b03-7893-46b8-fc99-174b98c5145c"
      },
      "execution_count": 21,
      "outputs": [
        {
          "output_type": "stream",
          "name": "stdout",
          "text": [
            "EN 42 93 43 C   Miguel   Graves   male   Londonderry   Grampian   miguel.graves@example.com   https://randomuser.me/api/portraits/men/76.jpg\n",
            "46527337   Salvador   Michel   male   Groet   Utrecht   salvador.michel@example.com   https://randomuser.me/api/portraits/men/45.jpg\n",
            "84490134-L   Elena   Ramos   female   San Sebastián de Los Reyes   Extremadura   elena.ramos@example.com   https://randomuser.me/api/portraits/women/37.jpg\n",
            "None   Alfeu   da Paz   male   Colombo   Pernambuco   alfeu.dapaz@example.com   https://randomuser.me/api/portraits/men/55.jpg\n",
            "12057729552   Timian   Landsem   male   Malvik   Trøndelag   timian.landsem@example.com   https://randomuser.me/api/portraits/men/72.jpg\n",
            "None   Kaya   Körmükçü   male   Kayseri   Eskişehir   kaya.kormukcu@example.com   https://randomuser.me/api/portraits/men/83.jpg\n",
            "13025627371   Aronas   Ree   male   Sæbøvik   Hedmark   aronas.ree@example.com   https://randomuser.me/api/portraits/men/19.jpg\n",
            "090762-0255   Jacob   Madsen   male   Snertinge   Nordjylland   jacob.madsen@example.com   https://randomuser.me/api/portraits/men/84.jpg\n",
            "157-01-2714   Stanley   Barnett   male   Durham   Maine   stanley.barnett@example.com   https://randomuser.me/api/portraits/men/12.jpg\n",
            "200698-9360   Bertram   Jørgensen   male   V.Skerninge   Sjælland   bertram.jorgensen@example.com   https://randomuser.me/api/portraits/men/68.jpg\n",
            "506582974   Adam   Perez   male   Albury   Queensland   adam.perez@example.com   https://randomuser.me/api/portraits/men/22.jpg\n",
            "0990660T   Lisa   Lee   female   Rush   Leitrim   lisa.lee@example.com   https://randomuser.me/api/portraits/women/62.jpg\n",
            "None   آوا   گلشن   female   یزد   ایلام   aw.glshn@example.com   https://randomuser.me/api/portraits/women/14.jpg\n",
            "None   Louis   Abraham   male   Windsor   Manitoba   louis.abraham@example.com   https://randomuser.me/api/portraits/men/74.jpg\n",
            "458851247   Floyd   Shelton   male   Coffs Harbour   Victoria   floyd.shelton@example.com   https://randomuser.me/api/portraits/men/77.jpg\n"
          ]
        }
      ]
    },
    {
      "cell_type": "markdown",
      "source": [
        "> I must write a function containing all desirable parameters to generate a table with information about the users, For example, name, gender, state, id and city. The parameters will depend on the requirements of the test to be performed. I will call the ***Get Methods*** and return ***pandas dataframe*** with the users."
      ],
      "metadata": {
        "id": "l164aYdtuPKR"
      }
    },
    {
      "cell_type": "code",
      "source": [
        "def get_users():\n",
        "    users =[]\n",
        "     \n",
        "    for user in RandomUser.generate_users(15):\n",
        "        users.append({\"id\":user.get_id_number(), \"First Name\":user.get_first_name(), \"Last Name\":user.get_last_name(), \"Gender\":user.get_gender(), \"City\":user.get_city(), \"State\":user.get_state(), \"Email\":user.get_email(), \"Picture\":user.get_picture()})\n",
        "      \n",
        "    return pd.DataFrame(users)    "
      ],
      "metadata": {
        "id": "uRb2i63Ou2Qv"
      },
      "execution_count": 22,
      "outputs": []
    },
    {
      "cell_type": "code",
      "source": [
        "get_users() "
      ],
      "metadata": {
        "id": "pr0Y5FpJwHWu",
        "outputId": "56d66b38-0a34-4a7a-bb33-8b03a173c911",
        "colab": {
          "base_uri": "https://localhost:8080/",
          "height": 520
        }
      },
      "execution_count": 23,
      "outputs": [
        {
          "output_type": "execute_result",
          "data": {
            "text/plain": [
              "                   id First Name   Last Name  Gender                   City  \\\n",
              "0                None     Arthur   Pelletier    male             Georgetown   \n",
              "1   NaNNA410undefined      Milja        Maki  female                Joensuu   \n",
              "2            13593133    Martino   Van Kleef    male  Rijkevoort-De Walsert   \n",
              "3          49135521-F     Fatima        Vega  female                Granada   \n",
              "4            77918650       Jori  Wildenberg  female                   Rien   \n",
              "5         29089331135     Julian    Tønsberg    male             Ulsteinvik   \n",
              "6    2NNaN81442391 82     Louise      Nguyen  female          Aubervilliers   \n",
              "7   NaNNA100undefined       Elli       Saksa  female                Isojoki   \n",
              "8       NC 37 35 92 B   Jennifer     Vasquez  female                Newport   \n",
              "9                None  Heiderose    Theobald  female           Ketzin/Havel   \n",
              "10        453-78-9004     Rodney       Owens    male             Round Rock   \n",
              "11        263-54-2995     Travis       Owens    male                 Bueblo   \n",
              "12               None     Daniel      Claire    male             Lafontaine   \n",
              "13   1NNaN02353980 55       Paul     Schmitt    male   Boulogne-Billancourt   \n",
              "14   1NNaN97914950 62    Anthony       Roche    male   Boulogne-Billancourt   \n",
              "\n",
              "                   State                           Email  \\\n",
              "0   Prince Edward Island    arthur.pelletier@example.com   \n",
              "1       Northern Savonia          milja.maki@example.com   \n",
              "2             Overijssel    martino.vankleef@example.com   \n",
              "3     Castilla la Mancha         fatima.vega@example.com   \n",
              "4                Drenthe     jori.wildenberg@example.com   \n",
              "5              Trøndelag     julian.tonsberg@example.com   \n",
              "6                 Nièvre       louise.nguyen@example.com   \n",
              "7           Ostrobothnia          elli.saksa@example.com   \n",
              "8                   Kent    jennifer.vasquez@example.com   \n",
              "9            Brandenburg  heiderose.theobald@example.com   \n",
              "10         New Hampshire        rodney.owens@example.com   \n",
              "11              Kentucky        travis.owens@example.com   \n",
              "12           Nova Scotia       daniel.claire@example.com   \n",
              "13         Haute-Garonne        paul.schmitt@example.com   \n",
              "14                  Aube       anthony.roche@example.com   \n",
              "\n",
              "                                             Picture  \n",
              "0     https://randomuser.me/api/portraits/men/59.jpg  \n",
              "1   https://randomuser.me/api/portraits/women/58.jpg  \n",
              "2     https://randomuser.me/api/portraits/men/45.jpg  \n",
              "3   https://randomuser.me/api/portraits/women/70.jpg  \n",
              "4   https://randomuser.me/api/portraits/women/66.jpg  \n",
              "5     https://randomuser.me/api/portraits/men/26.jpg  \n",
              "6   https://randomuser.me/api/portraits/women/62.jpg  \n",
              "7   https://randomuser.me/api/portraits/women/95.jpg  \n",
              "8   https://randomuser.me/api/portraits/women/83.jpg  \n",
              "9   https://randomuser.me/api/portraits/women/23.jpg  \n",
              "10    https://randomuser.me/api/portraits/men/37.jpg  \n",
              "11    https://randomuser.me/api/portraits/men/20.jpg  \n",
              "12    https://randomuser.me/api/portraits/men/51.jpg  \n",
              "13    https://randomuser.me/api/portraits/men/57.jpg  \n",
              "14    https://randomuser.me/api/portraits/men/28.jpg  "
            ],
            "text/html": [
              "\n",
              "  <div id=\"df-5d0f6ee2-6278-44bb-b364-a21fe488ad7a\">\n",
              "    <div class=\"colab-df-container\">\n",
              "      <div>\n",
              "<style scoped>\n",
              "    .dataframe tbody tr th:only-of-type {\n",
              "        vertical-align: middle;\n",
              "    }\n",
              "\n",
              "    .dataframe tbody tr th {\n",
              "        vertical-align: top;\n",
              "    }\n",
              "\n",
              "    .dataframe thead th {\n",
              "        text-align: right;\n",
              "    }\n",
              "</style>\n",
              "<table border=\"1\" class=\"dataframe\">\n",
              "  <thead>\n",
              "    <tr style=\"text-align: right;\">\n",
              "      <th></th>\n",
              "      <th>id</th>\n",
              "      <th>First Name</th>\n",
              "      <th>Last Name</th>\n",
              "      <th>Gender</th>\n",
              "      <th>City</th>\n",
              "      <th>State</th>\n",
              "      <th>Email</th>\n",
              "      <th>Picture</th>\n",
              "    </tr>\n",
              "  </thead>\n",
              "  <tbody>\n",
              "    <tr>\n",
              "      <th>0</th>\n",
              "      <td>None</td>\n",
              "      <td>Arthur</td>\n",
              "      <td>Pelletier</td>\n",
              "      <td>male</td>\n",
              "      <td>Georgetown</td>\n",
              "      <td>Prince Edward Island</td>\n",
              "      <td>arthur.pelletier@example.com</td>\n",
              "      <td>https://randomuser.me/api/portraits/men/59.jpg</td>\n",
              "    </tr>\n",
              "    <tr>\n",
              "      <th>1</th>\n",
              "      <td>NaNNA410undefined</td>\n",
              "      <td>Milja</td>\n",
              "      <td>Maki</td>\n",
              "      <td>female</td>\n",
              "      <td>Joensuu</td>\n",
              "      <td>Northern Savonia</td>\n",
              "      <td>milja.maki@example.com</td>\n",
              "      <td>https://randomuser.me/api/portraits/women/58.jpg</td>\n",
              "    </tr>\n",
              "    <tr>\n",
              "      <th>2</th>\n",
              "      <td>13593133</td>\n",
              "      <td>Martino</td>\n",
              "      <td>Van Kleef</td>\n",
              "      <td>male</td>\n",
              "      <td>Rijkevoort-De Walsert</td>\n",
              "      <td>Overijssel</td>\n",
              "      <td>martino.vankleef@example.com</td>\n",
              "      <td>https://randomuser.me/api/portraits/men/45.jpg</td>\n",
              "    </tr>\n",
              "    <tr>\n",
              "      <th>3</th>\n",
              "      <td>49135521-F</td>\n",
              "      <td>Fatima</td>\n",
              "      <td>Vega</td>\n",
              "      <td>female</td>\n",
              "      <td>Granada</td>\n",
              "      <td>Castilla la Mancha</td>\n",
              "      <td>fatima.vega@example.com</td>\n",
              "      <td>https://randomuser.me/api/portraits/women/70.jpg</td>\n",
              "    </tr>\n",
              "    <tr>\n",
              "      <th>4</th>\n",
              "      <td>77918650</td>\n",
              "      <td>Jori</td>\n",
              "      <td>Wildenberg</td>\n",
              "      <td>female</td>\n",
              "      <td>Rien</td>\n",
              "      <td>Drenthe</td>\n",
              "      <td>jori.wildenberg@example.com</td>\n",
              "      <td>https://randomuser.me/api/portraits/women/66.jpg</td>\n",
              "    </tr>\n",
              "    <tr>\n",
              "      <th>5</th>\n",
              "      <td>29089331135</td>\n",
              "      <td>Julian</td>\n",
              "      <td>Tønsberg</td>\n",
              "      <td>male</td>\n",
              "      <td>Ulsteinvik</td>\n",
              "      <td>Trøndelag</td>\n",
              "      <td>julian.tonsberg@example.com</td>\n",
              "      <td>https://randomuser.me/api/portraits/men/26.jpg</td>\n",
              "    </tr>\n",
              "    <tr>\n",
              "      <th>6</th>\n",
              "      <td>2NNaN81442391 82</td>\n",
              "      <td>Louise</td>\n",
              "      <td>Nguyen</td>\n",
              "      <td>female</td>\n",
              "      <td>Aubervilliers</td>\n",
              "      <td>Nièvre</td>\n",
              "      <td>louise.nguyen@example.com</td>\n",
              "      <td>https://randomuser.me/api/portraits/women/62.jpg</td>\n",
              "    </tr>\n",
              "    <tr>\n",
              "      <th>7</th>\n",
              "      <td>NaNNA100undefined</td>\n",
              "      <td>Elli</td>\n",
              "      <td>Saksa</td>\n",
              "      <td>female</td>\n",
              "      <td>Isojoki</td>\n",
              "      <td>Ostrobothnia</td>\n",
              "      <td>elli.saksa@example.com</td>\n",
              "      <td>https://randomuser.me/api/portraits/women/95.jpg</td>\n",
              "    </tr>\n",
              "    <tr>\n",
              "      <th>8</th>\n",
              "      <td>NC 37 35 92 B</td>\n",
              "      <td>Jennifer</td>\n",
              "      <td>Vasquez</td>\n",
              "      <td>female</td>\n",
              "      <td>Newport</td>\n",
              "      <td>Kent</td>\n",
              "      <td>jennifer.vasquez@example.com</td>\n",
              "      <td>https://randomuser.me/api/portraits/women/83.jpg</td>\n",
              "    </tr>\n",
              "    <tr>\n",
              "      <th>9</th>\n",
              "      <td>None</td>\n",
              "      <td>Heiderose</td>\n",
              "      <td>Theobald</td>\n",
              "      <td>female</td>\n",
              "      <td>Ketzin/Havel</td>\n",
              "      <td>Brandenburg</td>\n",
              "      <td>heiderose.theobald@example.com</td>\n",
              "      <td>https://randomuser.me/api/portraits/women/23.jpg</td>\n",
              "    </tr>\n",
              "    <tr>\n",
              "      <th>10</th>\n",
              "      <td>453-78-9004</td>\n",
              "      <td>Rodney</td>\n",
              "      <td>Owens</td>\n",
              "      <td>male</td>\n",
              "      <td>Round Rock</td>\n",
              "      <td>New Hampshire</td>\n",
              "      <td>rodney.owens@example.com</td>\n",
              "      <td>https://randomuser.me/api/portraits/men/37.jpg</td>\n",
              "    </tr>\n",
              "    <tr>\n",
              "      <th>11</th>\n",
              "      <td>263-54-2995</td>\n",
              "      <td>Travis</td>\n",
              "      <td>Owens</td>\n",
              "      <td>male</td>\n",
              "      <td>Bueblo</td>\n",
              "      <td>Kentucky</td>\n",
              "      <td>travis.owens@example.com</td>\n",
              "      <td>https://randomuser.me/api/portraits/men/20.jpg</td>\n",
              "    </tr>\n",
              "    <tr>\n",
              "      <th>12</th>\n",
              "      <td>None</td>\n",
              "      <td>Daniel</td>\n",
              "      <td>Claire</td>\n",
              "      <td>male</td>\n",
              "      <td>Lafontaine</td>\n",
              "      <td>Nova Scotia</td>\n",
              "      <td>daniel.claire@example.com</td>\n",
              "      <td>https://randomuser.me/api/portraits/men/51.jpg</td>\n",
              "    </tr>\n",
              "    <tr>\n",
              "      <th>13</th>\n",
              "      <td>1NNaN02353980 55</td>\n",
              "      <td>Paul</td>\n",
              "      <td>Schmitt</td>\n",
              "      <td>male</td>\n",
              "      <td>Boulogne-Billancourt</td>\n",
              "      <td>Haute-Garonne</td>\n",
              "      <td>paul.schmitt@example.com</td>\n",
              "      <td>https://randomuser.me/api/portraits/men/57.jpg</td>\n",
              "    </tr>\n",
              "    <tr>\n",
              "      <th>14</th>\n",
              "      <td>1NNaN97914950 62</td>\n",
              "      <td>Anthony</td>\n",
              "      <td>Roche</td>\n",
              "      <td>male</td>\n",
              "      <td>Boulogne-Billancourt</td>\n",
              "      <td>Aube</td>\n",
              "      <td>anthony.roche@example.com</td>\n",
              "      <td>https://randomuser.me/api/portraits/men/28.jpg</td>\n",
              "    </tr>\n",
              "  </tbody>\n",
              "</table>\n",
              "</div>\n",
              "      <button class=\"colab-df-convert\" onclick=\"convertToInteractive('df-5d0f6ee2-6278-44bb-b364-a21fe488ad7a')\"\n",
              "              title=\"Convert this dataframe to an interactive table.\"\n",
              "              style=\"display:none;\">\n",
              "        \n",
              "  <svg xmlns=\"http://www.w3.org/2000/svg\" height=\"24px\"viewBox=\"0 0 24 24\"\n",
              "       width=\"24px\">\n",
              "    <path d=\"M0 0h24v24H0V0z\" fill=\"none\"/>\n",
              "    <path d=\"M18.56 5.44l.94 2.06.94-2.06 2.06-.94-2.06-.94-.94-2.06-.94 2.06-2.06.94zm-11 1L8.5 8.5l.94-2.06 2.06-.94-2.06-.94L8.5 2.5l-.94 2.06-2.06.94zm10 10l.94 2.06.94-2.06 2.06-.94-2.06-.94-.94-2.06-.94 2.06-2.06.94z\"/><path d=\"M17.41 7.96l-1.37-1.37c-.4-.4-.92-.59-1.43-.59-.52 0-1.04.2-1.43.59L10.3 9.45l-7.72 7.72c-.78.78-.78 2.05 0 2.83L4 21.41c.39.39.9.59 1.41.59.51 0 1.02-.2 1.41-.59l7.78-7.78 2.81-2.81c.8-.78.8-2.07 0-2.86zM5.41 20L4 18.59l7.72-7.72 1.47 1.35L5.41 20z\"/>\n",
              "  </svg>\n",
              "      </button>\n",
              "      \n",
              "  <style>\n",
              "    .colab-df-container {\n",
              "      display:flex;\n",
              "      flex-wrap:wrap;\n",
              "      gap: 12px;\n",
              "    }\n",
              "\n",
              "    .colab-df-convert {\n",
              "      background-color: #E8F0FE;\n",
              "      border: none;\n",
              "      border-radius: 50%;\n",
              "      cursor: pointer;\n",
              "      display: none;\n",
              "      fill: #1967D2;\n",
              "      height: 32px;\n",
              "      padding: 0 0 0 0;\n",
              "      width: 32px;\n",
              "    }\n",
              "\n",
              "    .colab-df-convert:hover {\n",
              "      background-color: #E2EBFA;\n",
              "      box-shadow: 0px 1px 2px rgba(60, 64, 67, 0.3), 0px 1px 3px 1px rgba(60, 64, 67, 0.15);\n",
              "      fill: #174EA6;\n",
              "    }\n",
              "\n",
              "    [theme=dark] .colab-df-convert {\n",
              "      background-color: #3B4455;\n",
              "      fill: #D2E3FC;\n",
              "    }\n",
              "\n",
              "    [theme=dark] .colab-df-convert:hover {\n",
              "      background-color: #434B5C;\n",
              "      box-shadow: 0px 1px 3px 1px rgba(0, 0, 0, 0.15);\n",
              "      filter: drop-shadow(0px 1px 2px rgba(0, 0, 0, 0.3));\n",
              "      fill: #FFFFFF;\n",
              "    }\n",
              "  </style>\n",
              "\n",
              "      <script>\n",
              "        const buttonEl =\n",
              "          document.querySelector('#df-5d0f6ee2-6278-44bb-b364-a21fe488ad7a button.colab-df-convert');\n",
              "        buttonEl.style.display =\n",
              "          google.colab.kernel.accessAllowed ? 'block' : 'none';\n",
              "\n",
              "        async function convertToInteractive(key) {\n",
              "          const element = document.querySelector('#df-5d0f6ee2-6278-44bb-b364-a21fe488ad7a');\n",
              "          const dataTable =\n",
              "            await google.colab.kernel.invokeFunction('convertToInteractive',\n",
              "                                                     [key], {});\n",
              "          if (!dataTable) return;\n",
              "\n",
              "          const docLinkHtml = 'Like what you see? Visit the ' +\n",
              "            '<a target=\"_blank\" href=https://colab.research.google.com/notebooks/data_table.ipynb>data table notebook</a>'\n",
              "            + ' to learn more about interactive tables.';\n",
              "          element.innerHTML = '';\n",
              "          dataTable['output_type'] = 'display_data';\n",
              "          await google.colab.output.renderOutput(dataTable, element);\n",
              "          const docLink = document.createElement('div');\n",
              "          docLink.innerHTML = docLinkHtml;\n",
              "          element.appendChild(docLink);\n",
              "        }\n",
              "      </script>\n",
              "    </div>\n",
              "  </div>\n",
              "  "
            ]
          },
          "metadata": {},
          "execution_count": 23
        }
      ]
    },
    {
      "cell_type": "code",
      "source": [
        "df = pd.DataFrame(get_users())  "
      ],
      "metadata": {
        "id": "U4xZUUXFxokI"
      },
      "execution_count": 24,
      "outputs": []
    },
    {
      "cell_type": "markdown",
      "source": [
        "# **Good Good!**\n",
        ">Now I have a ***pandas dataframe*** that can be used for any testing target."
      ],
      "metadata": {
        "id": "iZ65ot6i0ein"
      }
    }
  ]
}


